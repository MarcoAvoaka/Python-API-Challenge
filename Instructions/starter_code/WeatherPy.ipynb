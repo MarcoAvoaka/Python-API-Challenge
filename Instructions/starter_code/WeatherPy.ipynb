{
 "cells": [
  {
   "cell_type": "markdown",
   "metadata": {},
   "source": [
    "# WeatherPy\n",
    "----\n",
    "\n",
    "#### Note\n",
    "* Instructions have been included for each segment. You do not have to follow them exactly, but they are included to help you think through the steps."
   ]
  },
  {
   "cell_type": "code",
   "execution_count": 1,
   "metadata": {
    "scrolled": true
   },
   "outputs": [],
   "source": [
    "# Dependencies and Setup\n",
    "import matplotlib.pyplot as plt\n",
    "import pandas as pd\n",
    "import numpy as np\n",
    "import requests\n",
    "import time\n",
    "from scipy.stats import linregress\n",
    "\n",
    "# Import API key\n",
    "from api_keys import weather_api_key\n",
    "\n",
    "# Incorporated citipy to determine city based on latitude and longitude\n",
    "from citipy import citipy\n",
    "\n",
    "# Output File (CSV)\n",
    "output_data_file = \"output_data/cities.csv\"\n",
    "\n",
    "# Range of latitudes and longitudes\n",
    "lat_range = (-90, 90)\n",
    "lng_range = (-180, 180)"
   ]
  },
  {
   "cell_type": "markdown",
   "metadata": {},
   "source": [
    "## Generate Cities List"
   ]
  },
  {
   "cell_type": "code",
   "execution_count": 2,
   "metadata": {},
   "outputs": [
    {
     "data": {
      "text/plain": [
       "601"
      ]
     },
     "execution_count": 2,
     "metadata": {},
     "output_type": "execute_result"
    }
   ],
   "source": [
    "# List for holding lat_lngs and cities\n",
    "lat_lngs = []\n",
    "cities = []\n",
    "\n",
    "# Create a set of random lat and lng combinations\n",
    "lats = np.random.uniform(lat_range[0], lat_range[1], size=1500)\n",
    "lngs = np.random.uniform(lng_range[0], lng_range[1], size=1500)\n",
    "lat_lngs = zip(lats, lngs)\n",
    "\n",
    "# Identify nearest city for each lat, lng combination\n",
    "for lat_lng in lat_lngs:\n",
    "    city = citipy.nearest_city(lat_lng[0], lat_lng[1]).city_name\n",
    "    \n",
    "    # If the city is unique, then add it to a our cities list\n",
    "    if city not in cities:\n",
    "        cities.append(city)\n",
    "\n",
    "# Print the city count to confirm sufficient count\n",
    "len(cities)"
   ]
  },
  {
   "cell_type": "markdown",
   "metadata": {},
   "source": [
    "### Perform API Calls\n",
    "* Perform a weather check on each city using a series of successive API calls.\n",
    "* Include a print log of each city as it'sbeing processed (with the city number and city name).\n"
   ]
  },
  {
   "cell_type": "code",
   "execution_count": 3,
   "metadata": {
    "scrolled": true
   },
   "outputs": [
    {
     "name": "stdout",
     "output_type": "stream",
     "text": [
      "found sisimiut\n",
      "found doka\n",
      "couldn't find aflu\n",
      "found mataura\n",
      "found sao filipe\n",
      "found gurupi\n",
      "found caravelas\n",
      "found shalinskoye\n",
      "found bengkulu\n",
      "found jamestown\n",
      "couldn't find felidhoo\n",
      "found meadow lake\n",
      "found ushuaia\n",
      "found boa vista\n",
      "found ribeira grande\n",
      "found alofi\n",
      "found punta arenas\n",
      "couldn't find nizhneyansk\n",
      "found hobart\n",
      "found saint-claude\n",
      "couldn't find vaitupu\n",
      "found porto novo\n",
      "found vilyuysk\n",
      "found ankazoabo\n",
      "found uusikaupunki\n",
      "couldn't find belushya guba\n",
      "found puerto ayora\n",
      "found ilulissat\n",
      "found bac lieu\n",
      "found fort nelson\n",
      "found bredasdorp\n",
      "couldn't find mys shmidta\n",
      "found albany\n",
      "found kaitangata\n",
      "found beloha\n",
      "found new norfolk\n",
      "found panguna\n",
      "found atar\n",
      "found piacabucu\n",
      "found tecoanapa\n",
      "found margate\n",
      "found rikitea\n",
      "found airai\n",
      "found tevaitoa\n",
      "found bethel\n",
      "found cape town\n",
      "found palmerston\n",
      "found katsuura\n",
      "found vao\n",
      "found richards bay\n",
      "couldn't find tsihombe\n",
      "found barrow\n",
      "found kapaa\n",
      "found trojes\n",
      "found kaili\n",
      "found chuy\n",
      "found asau\n",
      "found east london\n",
      "found busselton\n",
      "found hithadhoo\n",
      "found tasiilaq\n",
      "found rock springs\n",
      "couldn't find taolanaro\n",
      "found porbandar\n",
      "found ajdabiya\n",
      "found atuona\n",
      "found qaanaaq\n",
      "found cidreira\n",
      "found port alfred\n",
      "found khatanga\n",
      "found tiksi\n",
      "found vaini\n",
      "found ngunguru\n",
      "found pevek\n",
      "found udachnyy\n",
      "found saint-pierre\n",
      "found mercedes\n",
      "found bulaevo\n",
      "found hermanus\n",
      "found chokurdakh\n",
      "found sokoni\n",
      "found itarema\n",
      "found haines junction\n",
      "found halifax\n",
      "found guane\n",
      "found cherskiy\n",
      "found bluff\n",
      "found sakakah\n",
      "found prince rupert\n",
      "found norman wells\n",
      "couldn't find umzimvubu\n",
      "found yen bai\n",
      "found upernavik\n",
      "found hofn\n",
      "found saint george\n",
      "found nome\n",
      "found hangal\n",
      "found avarua\n",
      "found marovoay\n",
      "found constitucion\n",
      "found henties bay\n",
      "found valparaiso\n",
      "found ust-kuyga\n",
      "found cockburn town\n",
      "found bugiri\n",
      "found srednekolymsk\n",
      "found arraial do cabo\n",
      "found carnarvon\n",
      "found sonoita\n",
      "couldn't find palabuhanratu\n",
      "found nikolskoye\n",
      "found vila\n",
      "found kavaratti\n",
      "found hilo\n",
      "found hambantota\n",
      "couldn't find ambodifototra\n",
      "couldn't find amderma\n",
      "found thompson\n",
      "found dikson\n",
      "found beringovskiy\n",
      "found zvishavane\n",
      "found el carmen\n",
      "couldn't find illoqqortoormiut\n",
      "found brigg\n",
      "couldn't find ji-parana\n",
      "found kungalv\n",
      "found yellowknife\n",
      "found san matias\n",
      "found mar del plata\n",
      "couldn't find galiwinku\n",
      "found esperance\n",
      "found talcahuano\n",
      "found buta\n",
      "found diego de almagro\n",
      "found sao joao da barra\n",
      "found geraldton\n",
      "found honiara\n",
      "found maneadero\n",
      "found kahului\n",
      "found danville\n",
      "found uruzgan\n",
      "found tanout\n",
      "found iqaluit\n",
      "found westport\n",
      "found tuktoyaktuk\n",
      "found makakilo city\n",
      "found auki\n",
      "found castro\n",
      "found longyearbyen\n",
      "found viedma\n",
      "couldn't find grand river south east\n",
      "found georgetown\n",
      "found hovd\n",
      "found dvinskoy\n",
      "found byron bay\n",
      "found hukuntsi\n",
      "found fez\n",
      "found jumla\n",
      "found santiago del estero\n",
      "couldn't find satitoa\n",
      "found lebu\n",
      "found banihal\n",
      "found abrau-dyurso\n",
      "found guilin\n",
      "found inta\n",
      "found flinders\n",
      "found kirchberg\n",
      "found lagoa\n",
      "found sierre\n",
      "found roald\n",
      "couldn't find sahrak\n",
      "found zapolyarnyy\n",
      "found port lincoln\n",
      "found taonan\n",
      "found shenjiamen\n",
      "found along\n",
      "found baglan\n",
      "found knysna\n",
      "found bloomfield\n",
      "found key west\n",
      "found majene\n",
      "found peniche\n",
      "found liverpool\n",
      "found pangnirtung\n",
      "found ronne\n",
      "found mogadishu\n",
      "found pierre\n",
      "found adrar\n",
      "couldn't find rungata\n",
      "found sorong\n",
      "couldn't find samusu\n",
      "couldn't find ngukurr\n",
      "found kushima\n",
      "found port macquarie\n",
      "found sault sainte marie\n",
      "found tigil\n",
      "found tautira\n",
      "found te anau\n",
      "found yabassi\n",
      "found codrington\n",
      "found guerrero negro\n",
      "found atlantic beach\n",
      "found sitka\n",
      "found stromness\n",
      "found norway\n",
      "found nanakuli\n",
      "found northam\n",
      "found padang\n",
      "found saint-philippe\n",
      "found jaumave\n",
      "found sawakin\n",
      "found viransehir\n",
      "found vostok\n",
      "found evanston\n",
      "found saint-esteve\n",
      "found kuusamo\n",
      "found naze\n",
      "found baft\n",
      "found shitanjing\n",
      "found berlevag\n",
      "found ban tak\n",
      "found spirit river\n",
      "found stephenville\n",
      "found yumen\n",
      "found yerofey pavlovich\n",
      "found saskylakh\n",
      "found lasa\n",
      "found saldanha\n",
      "found ratnagiri\n",
      "found port elizabeth\n",
      "found santa isabel do rio negro\n",
      "found aksu\n",
      "found aswan\n",
      "found zhigansk\n",
      "found apatity\n",
      "found lorengau\n",
      "found pilar\n",
      "found mahebourg\n",
      "found rodino\n",
      "found kodinsk\n",
      "found dentsville\n",
      "found fortuna\n",
      "found raudeberg\n",
      "found bairiki\n",
      "found sobolevo\n",
      "found torbay\n",
      "found magrath\n",
      "found zholymbet\n",
      "found puerto escondido\n",
      "found deogarh\n",
      "found griffith\n",
      "found meulaboh\n",
      "found marsh harbour\n",
      "couldn't find barentsburg\n",
      "found ous\n",
      "found pavlodar\n",
      "found touros\n",
      "found kasongo-lunda\n",
      "found naruto\n",
      "found katherine\n",
      "found kavieng\n",
      "found half moon bay\n",
      "found awbari\n",
      "found goderich\n",
      "found port-gentil\n",
      "found grand gaube\n",
      "found deputatskiy\n",
      "found biloela\n",
      "found sechura\n",
      "found laguna\n",
      "found chapais\n",
      "found lavrentiya\n",
      "found urumqi\n",
      "found tuatapere\n",
      "found blackwater\n",
      "found aleksandrov gay\n",
      "couldn't find lolua\n",
      "found butaritari\n",
      "found severo-kurilsk\n",
      "found ostrovnoy\n",
      "found macau\n",
      "couldn't find attawapiskat\n",
      "found bilma\n",
      "found ingham\n",
      "found kirakira\n",
      "found ceres\n",
      "found sabang\n",
      "found puri\n",
      "found kabalo\n",
      "found chalons-en-champagne\n",
      "found talara\n",
      "found vanimo\n",
      "found benavente\n",
      "found portland\n",
      "found hosdurga\n",
      "found pisco\n",
      "found ribeira brava\n",
      "found oriximina\n",
      "found ordu\n",
      "found san quintin\n",
      "found kapuskasing\n",
      "found komsomolskiy\n",
      "found nivala\n",
      "found lively\n",
      "found les cayes\n",
      "found pechenga\n",
      "found beira\n",
      "found sagua la grande\n",
      "found khasan\n",
      "found kaka\n",
      "found lulea\n",
      "found teguldet\n",
      "found walvis bay\n",
      "found kavarna\n",
      "couldn't find kazalinsk\n",
      "found bonavista\n",
      "found hegang\n",
      "found tukrah\n",
      "found porto velho\n",
      "found baie-comeau\n",
      "found zaysan\n",
      "found tiangua\n",
      "found harper\n",
      "found fernie\n",
      "found zalantun\n",
      "found golden\n",
      "found yulara\n",
      "found salta\n",
      "found vangaindrano\n",
      "found tanakpur\n",
      "found plettenberg bay\n",
      "found narsaq\n",
      "found langarud\n",
      "found great yarmouth\n",
      "found manitouwadge\n",
      "couldn't find sentyabrskiy\n",
      "found labuhan\n",
      "found kerema\n",
      "found sorland\n",
      "found aklavik\n",
      "found umea\n",
      "found cozumel\n",
      "found mandalgovi\n",
      "found podosinovets\n",
      "found ventspils\n",
      "found lata\n",
      "found sioux lookout\n",
      "found faanui\n",
      "found la asuncion\n",
      "found kodiak\n",
      "found tiarei\n",
      "found faya\n",
      "found vila franca do campo\n",
      "found ahipara\n",
      "found leningradskiy\n",
      "found marawi\n",
      "found provideniya\n",
      "found sungaipenuh\n",
      "found antalaha\n",
      "found souillac\n",
      "found cururupu\n",
      "found santa cruz\n",
      "found lompoc\n",
      "found cabo san lucas\n",
      "couldn't find vaovai\n",
      "found ponta do sol\n",
      "found manokwari\n",
      "couldn't find makung\n",
      "couldn't find taburi\n",
      "found straumen\n",
      "found nenagh\n",
      "found kashary\n",
      "found luderitz\n",
      "found venezuela\n",
      "couldn't find louisbourg\n",
      "found bam\n",
      "found biak\n",
      "found pemangkat\n",
      "found manchester\n",
      "found delijan\n",
      "found chegdomyn\n",
      "found pandan\n",
      "couldn't find gazion\n",
      "found san juan\n",
      "found turiacu\n",
      "found san patricio\n",
      "couldn't find baboua\n",
      "found chifeng\n",
      "found algiers\n",
      "found bambous virieux\n",
      "found massakory\n",
      "found moses lake\n",
      "found gornopravdinsk\n",
      "found chatellerault\n",
      "found santa catarina de tepehuanes\n",
      "couldn't find formoso do araguaia\n",
      "found ganzhou\n",
      "found yima\n",
      "found belmonte\n",
      "found san ramon\n",
      "found victoria\n",
      "couldn't find rawannawi\n",
      "found grand-santi\n",
      "found banda aceh\n",
      "found talnakh\n",
      "found kiunga\n",
      "found san borja\n",
      "found kyabram\n",
      "found powell river\n",
      "found praia da vitoria\n",
      "found bambanglipuro\n",
      "found kloulklubed\n",
      "found japura\n",
      "found saint marys\n",
      "found noumea\n",
      "found paamiut\n",
      "found aykhal\n",
      "found hamilton\n",
      "found goma\n",
      "found mayo\n",
      "found xochistlahuaca\n",
      "found mungwi\n",
      "found zatyshshya\n",
      "found aloleng\n",
      "found najran\n",
      "found ust-uda\n",
      "found alugan\n",
      "couldn't find addis zemen\n",
      "found freeport\n",
      "found sao gabriel da cachoeira\n",
      "found vestmannaeyjar\n",
      "found klaksvik\n",
      "couldn't find hihifo\n",
      "found lodja\n",
      "found eilenburg\n",
      "found thornhill\n",
      "found gimli\n",
      "found dolores\n",
      "couldn't find tabiauea\n",
      "found oksfjord\n",
      "found kununurra\n",
      "found playas\n",
      "found zyryanka\n",
      "found clyde river\n",
      "found zemio\n",
      "found taoudenni\n",
      "found taklisah\n",
      "found panzhihua\n",
      "found imeni poliny osipenko\n",
      "found tripoli\n",
      "found miri\n",
      "found tual\n",
      "found mago\n",
      "found mastic beach\n",
      "found antsohihy\n",
      "found coquimbo\n",
      "found bumba\n",
      "found salgado\n",
      "found lamont\n",
      "found ushtobe\n",
      "found hobyo\n",
      "found raahe\n",
      "found port moresby\n",
      "found novoagansk\n",
      "found shanhetun\n",
      "found maumere\n",
      "found tilichiki\n",
      "found panino\n",
      "found neufahrn\n",
      "found contamana\n",
      "found nanortalik\n",
      "couldn't find utiroa\n",
      "found caconda\n",
      "found gigmoto\n",
      "found chicama\n",
      "found cayenne\n",
      "found kampot\n",
      "found suhbaatar\n",
      "couldn't find labutta\n",
      "found tahe\n",
      "found chaihe\n",
      "found axim\n",
      "found whitehorse\n",
      "found cocorit\n",
      "found soe\n",
      "found saint anthony\n",
      "found yangambi\n",
      "found keti bandar\n",
      "couldn't find aporawan\n",
      "found adre\n",
      "found los llanos de aridane\n",
      "found broome\n",
      "found santa maria\n",
      "found goya\n",
      "found asfi\n",
      "found pangkalanbuun\n",
      "found ler\n",
      "couldn't find tumannyy\n",
      "found isangel\n",
      "found nautanwa\n",
      "found assare\n",
      "found mulanje\n",
      "found gizo\n",
      "found nelson bay\n",
      "found natal\n",
      "found asmara\n",
      "found lauenburg\n",
      "found kalabo\n",
      "found olafsvik\n",
      "found luga\n",
      "found kenai\n"
     ]
    },
    {
     "name": "stdout",
     "output_type": "stream",
     "text": [
      "found smithers\n",
      "found atasu\n",
      "found valley city\n",
      "found kieta\n",
      "found pacific grove\n",
      "found hasaki\n",
      "found baherden\n",
      "found birjand\n",
      "found rio bueno\n",
      "found gat\n",
      "found nakamura\n",
      "found darhan\n",
      "found namwala\n",
      "found vardo\n",
      "found karratha\n",
      "found turukhansk\n",
      "found zharkent\n",
      "found orlik\n",
      "found maragogi\n",
      "found maiduguri\n",
      "found chimbote\n",
      "found tiznit\n",
      "found blagoyevo\n",
      "found samarai\n",
      "found rosetta\n",
      "found carmelo\n",
      "found gravdal\n",
      "found black river\n",
      "found kachug\n",
      "found salinopolis\n",
      "found almeirim\n",
      "found arman\n",
      "found zabaykalsk\n",
      "found kidal\n",
      "found prado\n",
      "found mount gambier\n",
      "found neepawa\n",
      "couldn't find hvammstangi\n",
      "found bathsheba\n",
      "found barretos\n",
      "couldn't find marcona\n",
      "found dauriya\n",
      "couldn't find katsiveli\n",
      "found luba\n",
      "couldn't find cumaribo\n",
      "found deep river\n",
      "found sinnamary\n",
      "found namibe\n",
      "found port-cartier\n",
      "found caen\n",
      "found mogok\n",
      "found los pozos\n",
      "found adjumani\n",
      "found izhma\n",
      "found kaeo\n",
      "found ixtapa\n",
      "couldn't find armacao dos buzios\n",
      "found markova\n",
      "found thunder bay\n",
      "found gaogou\n",
      "found egvekinot\n",
      "found mount isa\n",
      "found shakiso\n",
      "found port hardy\n",
      "found salamanca\n",
      "found anshun\n",
      "found yerbogachen\n",
      "couldn't find wampusirpi\n",
      "found sur\n",
      "found sampit\n",
      "found tateyama\n",
      "found lincoln\n",
      "found mehamn\n",
      "found miramar\n",
      "found arzgir\n",
      "found luanda\n",
      "found manta\n",
      "found patiya\n",
      "found mokhsogollokh\n",
      "found grindavik\n",
      "found saint-joseph\n",
      "found quatre cocos\n",
      "found san carlos\n",
      "found djibo\n",
      "found villa carlos paz\n",
      "found sao joaquim\n",
      "found fairhope\n",
      "found pimentel\n",
      "found jinchang\n",
      "found sidi bin nur\n"
     ]
    },
    {
     "data": {
      "text/html": [
       "<div>\n",
       "<style scoped>\n",
       "    .dataframe tbody tr th:only-of-type {\n",
       "        vertical-align: middle;\n",
       "    }\n",
       "\n",
       "    .dataframe tbody tr th {\n",
       "        vertical-align: top;\n",
       "    }\n",
       "\n",
       "    .dataframe thead th {\n",
       "        text-align: right;\n",
       "    }\n",
       "</style>\n",
       "<table border=\"1\" class=\"dataframe\">\n",
       "  <thead>\n",
       "    <tr style=\"text-align: right;\">\n",
       "      <th></th>\n",
       "      <th>Temperature</th>\n",
       "      <th>Latitude</th>\n",
       "      <th>Longitude</th>\n",
       "      <th>Humidity</th>\n",
       "      <th>Wind Speed</th>\n",
       "      <th>Cloud</th>\n",
       "      <th>Country</th>\n",
       "      <th>Date</th>\n",
       "      <th>City</th>\n",
       "    </tr>\n",
       "  </thead>\n",
       "  <tbody>\n",
       "    <tr>\n",
       "      <th>0</th>\n",
       "      <td>14.99</td>\n",
       "      <td>66.9395</td>\n",
       "      <td>-53.6735</td>\n",
       "      <td>78</td>\n",
       "      <td>13.29</td>\n",
       "      <td>16</td>\n",
       "      <td>GL</td>\n",
       "      <td>1637637966</td>\n",
       "      <td>sisimiut</td>\n",
       "    </tr>\n",
       "    <tr>\n",
       "      <th>1</th>\n",
       "      <td>73.35</td>\n",
       "      <td>13.5167</td>\n",
       "      <td>35.7667</td>\n",
       "      <td>64</td>\n",
       "      <td>9.48</td>\n",
       "      <td>37</td>\n",
       "      <td>SD</td>\n",
       "      <td>1637637774</td>\n",
       "      <td>doka</td>\n",
       "    </tr>\n",
       "    <tr>\n",
       "      <th>2</th>\n",
       "      <td>63.12</td>\n",
       "      <td>-46.1927</td>\n",
       "      <td>168.8643</td>\n",
       "      <td>45</td>\n",
       "      <td>6.24</td>\n",
       "      <td>81</td>\n",
       "      <td>NZ</td>\n",
       "      <td>1637637751</td>\n",
       "      <td>mataura</td>\n",
       "    </tr>\n",
       "    <tr>\n",
       "      <th>3</th>\n",
       "      <td>80.67</td>\n",
       "      <td>14.8961</td>\n",
       "      <td>-24.4956</td>\n",
       "      <td>61</td>\n",
       "      <td>8.68</td>\n",
       "      <td>0</td>\n",
       "      <td>CV</td>\n",
       "      <td>1637637810</td>\n",
       "      <td>sao filipe</td>\n",
       "    </tr>\n",
       "    <tr>\n",
       "      <th>4</th>\n",
       "      <td>73.17</td>\n",
       "      <td>-11.7292</td>\n",
       "      <td>-49.0686</td>\n",
       "      <td>93</td>\n",
       "      <td>4.54</td>\n",
       "      <td>95</td>\n",
       "      <td>BR</td>\n",
       "      <td>1637638046</td>\n",
       "      <td>gurupi</td>\n",
       "    </tr>\n",
       "    <tr>\n",
       "      <th>...</th>\n",
       "      <td>...</td>\n",
       "      <td>...</td>\n",
       "      <td>...</td>\n",
       "      <td>...</td>\n",
       "      <td>...</td>\n",
       "      <td>...</td>\n",
       "      <td>...</td>\n",
       "      <td>...</td>\n",
       "      <td>...</td>\n",
       "    </tr>\n",
       "    <tr>\n",
       "      <th>549</th>\n",
       "      <td>55.42</td>\n",
       "      <td>-28.2939</td>\n",
       "      <td>-49.9317</td>\n",
       "      <td>78</td>\n",
       "      <td>2.10</td>\n",
       "      <td>0</td>\n",
       "      <td>BR</td>\n",
       "      <td>1637638140</td>\n",
       "      <td>sao joaquim</td>\n",
       "    </tr>\n",
       "    <tr>\n",
       "      <th>550</th>\n",
       "      <td>51.58</td>\n",
       "      <td>30.5230</td>\n",
       "      <td>-87.9033</td>\n",
       "      <td>71</td>\n",
       "      <td>1.99</td>\n",
       "      <td>1</td>\n",
       "      <td>US</td>\n",
       "      <td>1637638140</td>\n",
       "      <td>fairhope</td>\n",
       "    </tr>\n",
       "    <tr>\n",
       "      <th>551</th>\n",
       "      <td>65.61</td>\n",
       "      <td>-6.8367</td>\n",
       "      <td>-79.9342</td>\n",
       "      <td>81</td>\n",
       "      <td>10.71</td>\n",
       "      <td>80</td>\n",
       "      <td>PE</td>\n",
       "      <td>1637638140</td>\n",
       "      <td>pimentel</td>\n",
       "    </tr>\n",
       "    <tr>\n",
       "      <th>552</th>\n",
       "      <td>38.66</td>\n",
       "      <td>38.4953</td>\n",
       "      <td>102.1739</td>\n",
       "      <td>16</td>\n",
       "      <td>3.87</td>\n",
       "      <td>0</td>\n",
       "      <td>CN</td>\n",
       "      <td>1637637757</td>\n",
       "      <td>jinchang</td>\n",
       "    </tr>\n",
       "    <tr>\n",
       "      <th>553</th>\n",
       "      <td>58.91</td>\n",
       "      <td>35.5333</td>\n",
       "      <td>10.9167</td>\n",
       "      <td>55</td>\n",
       "      <td>8.19</td>\n",
       "      <td>2</td>\n",
       "      <td>TN</td>\n",
       "      <td>1637638141</td>\n",
       "      <td>sidi bin nur</td>\n",
       "    </tr>\n",
       "  </tbody>\n",
       "</table>\n",
       "<p>554 rows × 9 columns</p>\n",
       "</div>"
      ],
      "text/plain": [
       "     Temperature  Latitude  Longitude  Humidity  Wind Speed  Cloud Country  \\\n",
       "0          14.99   66.9395   -53.6735        78       13.29     16      GL   \n",
       "1          73.35   13.5167    35.7667        64        9.48     37      SD   \n",
       "2          63.12  -46.1927   168.8643        45        6.24     81      NZ   \n",
       "3          80.67   14.8961   -24.4956        61        8.68      0      CV   \n",
       "4          73.17  -11.7292   -49.0686        93        4.54     95      BR   \n",
       "..           ...       ...        ...       ...         ...    ...     ...   \n",
       "549        55.42  -28.2939   -49.9317        78        2.10      0      BR   \n",
       "550        51.58   30.5230   -87.9033        71        1.99      1      US   \n",
       "551        65.61   -6.8367   -79.9342        81       10.71     80      PE   \n",
       "552        38.66   38.4953   102.1739        16        3.87      0      CN   \n",
       "553        58.91   35.5333    10.9167        55        8.19      2      TN   \n",
       "\n",
       "           Date          City  \n",
       "0    1637637966      sisimiut  \n",
       "1    1637637774          doka  \n",
       "2    1637637751       mataura  \n",
       "3    1637637810    sao filipe  \n",
       "4    1637638046        gurupi  \n",
       "..          ...           ...  \n",
       "549  1637638140   sao joaquim  \n",
       "550  1637638140      fairhope  \n",
       "551  1637638140      pimentel  \n",
       "552  1637637757      jinchang  \n",
       "553  1637638141  sidi bin nur  \n",
       "\n",
       "[554 rows x 9 columns]"
      ]
     },
     "execution_count": 3,
     "metadata": {},
     "output_type": "execute_result"
    }
   ],
   "source": [
    "temp=[]\n",
    "lat=[]\n",
    "long=[]\n",
    "humidity=[]\n",
    "windspeed=[]\n",
    "cloud=[]\n",
    "country=[]\n",
    "date=[]\n",
    "cityfound=[]\n",
    "for city in cities:\n",
    "    url=f\"http://api.openweathermap.org/data/2.5/weather?q={city}&appid={weather_api_key}&units=imperial\"\n",
    "    try:\n",
    "        weather=requests.get(url).json()\n",
    "        temp.append(weather[\"main\"][\"temp\"])\n",
    "        lat.append(weather[\"coord\"][\"lat\"])\n",
    "        long.append(weather[\"coord\"][\"lon\"])\n",
    "        humidity.append(weather[\"main\"][\"humidity\"])\n",
    "        windspeed.append(weather[\"wind\"][\"speed\"])\n",
    "        cloud.append(weather[\"clouds\"][\"all\"])\n",
    "        country.append(weather[\"sys\"][\"country\"])\n",
    "        date.append(weather[\"dt\"])\n",
    "        cityfound.append(city)\n",
    "        print(\"found \" + city)\n",
    "    except:\n",
    "        print(\"couldn't find \" + city)\n",
    "        \n",
    "temp\n",
    "\n",
    "city_df=pd.DataFrame({\"Temperature\":temp,\n",
    "                      \"Latitude\":lat,\n",
    "                      \"Longitude\":long,\n",
    "                      \"Humidity\":humidity,\n",
    "                      \"Wind Speed\":windspeed,\n",
    "                      \"Cloud\":cloud,\n",
    "                      \"Country\":country,\n",
    "                      \"Date\":date,\n",
    "                      \"City\":cityfound\n",
    "                      })\n",
    "\n",
    "city_df\n"
   ]
  },
  {
   "cell_type": "markdown",
   "metadata": {},
   "source": [
    "### Convert Raw Data to DataFrame\n",
    "* Export the city data into a .csv.\n",
    "* Display the DataFrame"
   ]
  },
  {
   "cell_type": "code",
   "execution_count": 7,
   "metadata": {},
   "outputs": [
    {
     "data": {
      "text/html": [
       "<div>\n",
       "<style scoped>\n",
       "    .dataframe tbody tr th:only-of-type {\n",
       "        vertical-align: middle;\n",
       "    }\n",
       "\n",
       "    .dataframe tbody tr th {\n",
       "        vertical-align: top;\n",
       "    }\n",
       "\n",
       "    .dataframe thead th {\n",
       "        text-align: right;\n",
       "    }\n",
       "</style>\n",
       "<table border=\"1\" class=\"dataframe\">\n",
       "  <thead>\n",
       "    <tr style=\"text-align: right;\">\n",
       "      <th></th>\n",
       "      <th>Temperature</th>\n",
       "      <th>Latitude</th>\n",
       "      <th>Longitude</th>\n",
       "      <th>Humidity</th>\n",
       "      <th>Wind Speed</th>\n",
       "      <th>Cloud</th>\n",
       "      <th>Country</th>\n",
       "      <th>Date</th>\n",
       "      <th>City</th>\n",
       "    </tr>\n",
       "  </thead>\n",
       "  <tbody>\n",
       "    <tr>\n",
       "      <th>0</th>\n",
       "      <td>-22.76</td>\n",
       "      <td>71.9667</td>\n",
       "      <td>102.5000</td>\n",
       "      <td>98</td>\n",
       "      <td>3.65</td>\n",
       "      <td>39</td>\n",
       "      <td>RU</td>\n",
       "      <td>1637192390</td>\n",
       "      <td>khatanga</td>\n",
       "    </tr>\n",
       "    <tr>\n",
       "      <th>1</th>\n",
       "      <td>69.87</td>\n",
       "      <td>-24.8667</td>\n",
       "      <td>113.6333</td>\n",
       "      <td>64</td>\n",
       "      <td>11.50</td>\n",
       "      <td>75</td>\n",
       "      <td>AU</td>\n",
       "      <td>1637192390</td>\n",
       "      <td>carnarvon</td>\n",
       "    </tr>\n",
       "    <tr>\n",
       "      <th>2</th>\n",
       "      <td>59.92</td>\n",
       "      <td>-33.9258</td>\n",
       "      <td>18.4232</td>\n",
       "      <td>58</td>\n",
       "      <td>17.27</td>\n",
       "      <td>40</td>\n",
       "      <td>ZA</td>\n",
       "      <td>1637192200</td>\n",
       "      <td>cape town</td>\n",
       "    </tr>\n",
       "    <tr>\n",
       "      <th>3</th>\n",
       "      <td>76.37</td>\n",
       "      <td>-20.0064</td>\n",
       "      <td>57.6608</td>\n",
       "      <td>70</td>\n",
       "      <td>4.00</td>\n",
       "      <td>13</td>\n",
       "      <td>MU</td>\n",
       "      <td>1637192391</td>\n",
       "      <td>grand gaube</td>\n",
       "    </tr>\n",
       "    <tr>\n",
       "      <th>4</th>\n",
       "      <td>59.29</td>\n",
       "      <td>-33.9180</td>\n",
       "      <td>25.5701</td>\n",
       "      <td>94</td>\n",
       "      <td>16.11</td>\n",
       "      <td>90</td>\n",
       "      <td>ZA</td>\n",
       "      <td>1637192290</td>\n",
       "      <td>port elizabeth</td>\n",
       "    </tr>\n",
       "    <tr>\n",
       "      <th>...</th>\n",
       "      <td>...</td>\n",
       "      <td>...</td>\n",
       "      <td>...</td>\n",
       "      <td>...</td>\n",
       "      <td>...</td>\n",
       "      <td>...</td>\n",
       "      <td>...</td>\n",
       "      <td>...</td>\n",
       "      <td>...</td>\n",
       "    </tr>\n",
       "    <tr>\n",
       "      <th>582</th>\n",
       "      <td>82.54</td>\n",
       "      <td>-3.6954</td>\n",
       "      <td>128.1814</td>\n",
       "      <td>78</td>\n",
       "      <td>2.30</td>\n",
       "      <td>40</td>\n",
       "      <td>ID</td>\n",
       "      <td>1637192550</td>\n",
       "      <td>ambon</td>\n",
       "    </tr>\n",
       "    <tr>\n",
       "      <th>583</th>\n",
       "      <td>74.64</td>\n",
       "      <td>11.9934</td>\n",
       "      <td>105.4635</td>\n",
       "      <td>94</td>\n",
       "      <td>7.52</td>\n",
       "      <td>98</td>\n",
       "      <td>KH</td>\n",
       "      <td>1637192521</td>\n",
       "      <td>kampong cham</td>\n",
       "    </tr>\n",
       "    <tr>\n",
       "      <th>584</th>\n",
       "      <td>-0.96</td>\n",
       "      <td>62.5147</td>\n",
       "      <td>65.8878</td>\n",
       "      <td>94</td>\n",
       "      <td>11.56</td>\n",
       "      <td>92</td>\n",
       "      <td>RU</td>\n",
       "      <td>1637192550</td>\n",
       "      <td>andra</td>\n",
       "    </tr>\n",
       "    <tr>\n",
       "      <th>585</th>\n",
       "      <td>65.28</td>\n",
       "      <td>32.7000</td>\n",
       "      <td>-16.7667</td>\n",
       "      <td>86</td>\n",
       "      <td>14.97</td>\n",
       "      <td>40</td>\n",
       "      <td>PT</td>\n",
       "      <td>1637192550</td>\n",
       "      <td>machico</td>\n",
       "    </tr>\n",
       "    <tr>\n",
       "      <th>586</th>\n",
       "      <td>70.83</td>\n",
       "      <td>-14.8333</td>\n",
       "      <td>-74.9500</td>\n",
       "      <td>53</td>\n",
       "      <td>4.25</td>\n",
       "      <td>100</td>\n",
       "      <td>PE</td>\n",
       "      <td>1637192550</td>\n",
       "      <td>nazca</td>\n",
       "    </tr>\n",
       "  </tbody>\n",
       "</table>\n",
       "<p>587 rows × 9 columns</p>\n",
       "</div>"
      ],
      "text/plain": [
       "     Temperature  Latitude  Longitude  Humidity  Wind Speed  Cloud Country  \\\n",
       "0         -22.76   71.9667   102.5000        98        3.65     39      RU   \n",
       "1          69.87  -24.8667   113.6333        64       11.50     75      AU   \n",
       "2          59.92  -33.9258    18.4232        58       17.27     40      ZA   \n",
       "3          76.37  -20.0064    57.6608        70        4.00     13      MU   \n",
       "4          59.29  -33.9180    25.5701        94       16.11     90      ZA   \n",
       "..           ...       ...        ...       ...         ...    ...     ...   \n",
       "582        82.54   -3.6954   128.1814        78        2.30     40      ID   \n",
       "583        74.64   11.9934   105.4635        94        7.52     98      KH   \n",
       "584        -0.96   62.5147    65.8878        94       11.56     92      RU   \n",
       "585        65.28   32.7000   -16.7667        86       14.97     40      PT   \n",
       "586        70.83  -14.8333   -74.9500        53        4.25    100      PE   \n",
       "\n",
       "           Date            City  \n",
       "0    1637192390        khatanga  \n",
       "1    1637192390       carnarvon  \n",
       "2    1637192200       cape town  \n",
       "3    1637192391     grand gaube  \n",
       "4    1637192290  port elizabeth  \n",
       "..          ...             ...  \n",
       "582  1637192550           ambon  \n",
       "583  1637192521    kampong cham  \n",
       "584  1637192550           andra  \n",
       "585  1637192550         machico  \n",
       "586  1637192550           nazca  \n",
       "\n",
       "[587 rows x 9 columns]"
      ]
     },
     "execution_count": 7,
     "metadata": {},
     "output_type": "execute_result"
    }
   ],
   "source": [
    "city_df.to_csv(\"city.csv\")\n",
    "city_df"
   ]
  },
  {
   "cell_type": "code",
   "execution_count": 4,
   "metadata": {},
   "outputs": [
    {
     "data": {
      "text/html": [
       "<div>\n",
       "<style scoped>\n",
       "    .dataframe tbody tr th:only-of-type {\n",
       "        vertical-align: middle;\n",
       "    }\n",
       "\n",
       "    .dataframe tbody tr th {\n",
       "        vertical-align: top;\n",
       "    }\n",
       "\n",
       "    .dataframe thead th {\n",
       "        text-align: right;\n",
       "    }\n",
       "</style>\n",
       "<table border=\"1\" class=\"dataframe\">\n",
       "  <thead>\n",
       "    <tr style=\"text-align: right;\">\n",
       "      <th></th>\n",
       "      <th>Temperature</th>\n",
       "      <th>Latitude</th>\n",
       "      <th>Longitude</th>\n",
       "      <th>Humidity</th>\n",
       "      <th>Wind Speed</th>\n",
       "      <th>Cloud</th>\n",
       "      <th>Date</th>\n",
       "    </tr>\n",
       "  </thead>\n",
       "  <tbody>\n",
       "    <tr>\n",
       "      <th>count</th>\n",
       "      <td>554.000000</td>\n",
       "      <td>554.000000</td>\n",
       "      <td>554.000000</td>\n",
       "      <td>554.000000</td>\n",
       "      <td>554.000000</td>\n",
       "      <td>554.000000</td>\n",
       "      <td>5.540000e+02</td>\n",
       "    </tr>\n",
       "    <tr>\n",
       "      <th>mean</th>\n",
       "      <td>51.980199</td>\n",
       "      <td>21.393066</td>\n",
       "      <td>15.502558</td>\n",
       "      <td>72.619134</td>\n",
       "      <td>7.604856</td>\n",
       "      <td>57.619134</td>\n",
       "      <td>1.637638e+09</td>\n",
       "    </tr>\n",
       "    <tr>\n",
       "      <th>std</th>\n",
       "      <td>27.678428</td>\n",
       "      <td>32.960613</td>\n",
       "      <td>91.081641</td>\n",
       "      <td>18.663608</td>\n",
       "      <td>5.732726</td>\n",
       "      <td>39.501703</td>\n",
       "      <td>1.612170e+02</td>\n",
       "    </tr>\n",
       "    <tr>\n",
       "      <th>min</th>\n",
       "      <td>-33.570000</td>\n",
       "      <td>-54.800000</td>\n",
       "      <td>-179.166700</td>\n",
       "      <td>16.000000</td>\n",
       "      <td>0.000000</td>\n",
       "      <td>0.000000</td>\n",
       "      <td>1.637637e+09</td>\n",
       "    </tr>\n",
       "    <tr>\n",
       "      <th>25%</th>\n",
       "      <td>32.940000</td>\n",
       "      <td>-6.291475</td>\n",
       "      <td>-65.637300</td>\n",
       "      <td>63.000000</td>\n",
       "      <td>3.420000</td>\n",
       "      <td>13.250000</td>\n",
       "      <td>1.637638e+09</td>\n",
       "    </tr>\n",
       "    <tr>\n",
       "      <th>50%</th>\n",
       "      <td>58.930000</td>\n",
       "      <td>27.508300</td>\n",
       "      <td>20.243000</td>\n",
       "      <td>77.000000</td>\n",
       "      <td>6.365000</td>\n",
       "      <td>74.500000</td>\n",
       "      <td>1.637638e+09</td>\n",
       "    </tr>\n",
       "    <tr>\n",
       "      <th>75%</th>\n",
       "      <td>75.517500</td>\n",
       "      <td>49.111950</td>\n",
       "      <td>99.158625</td>\n",
       "      <td>86.000000</td>\n",
       "      <td>10.360000</td>\n",
       "      <td>98.750000</td>\n",
       "      <td>1.637638e+09</td>\n",
       "    </tr>\n",
       "    <tr>\n",
       "      <th>max</th>\n",
       "      <td>103.980000</td>\n",
       "      <td>78.218600</td>\n",
       "      <td>179.316700</td>\n",
       "      <td>100.000000</td>\n",
       "      <td>30.220000</td>\n",
       "      <td>100.000000</td>\n",
       "      <td>1.637638e+09</td>\n",
       "    </tr>\n",
       "  </tbody>\n",
       "</table>\n",
       "</div>"
      ],
      "text/plain": [
       "       Temperature    Latitude   Longitude    Humidity  Wind Speed  \\\n",
       "count   554.000000  554.000000  554.000000  554.000000  554.000000   \n",
       "mean     51.980199   21.393066   15.502558   72.619134    7.604856   \n",
       "std      27.678428   32.960613   91.081641   18.663608    5.732726   \n",
       "min     -33.570000  -54.800000 -179.166700   16.000000    0.000000   \n",
       "25%      32.940000   -6.291475  -65.637300   63.000000    3.420000   \n",
       "50%      58.930000   27.508300   20.243000   77.000000    6.365000   \n",
       "75%      75.517500   49.111950   99.158625   86.000000   10.360000   \n",
       "max     103.980000   78.218600  179.316700  100.000000   30.220000   \n",
       "\n",
       "            Cloud          Date  \n",
       "count  554.000000  5.540000e+02  \n",
       "mean    57.619134  1.637638e+09  \n",
       "std     39.501703  1.612170e+02  \n",
       "min      0.000000  1.637637e+09  \n",
       "25%     13.250000  1.637638e+09  \n",
       "50%     74.500000  1.637638e+09  \n",
       "75%     98.750000  1.637638e+09  \n",
       "max    100.000000  1.637638e+09  "
      ]
     },
     "execution_count": 4,
     "metadata": {},
     "output_type": "execute_result"
    }
   ],
   "source": [
    "city_df.describe()"
   ]
  },
  {
   "cell_type": "markdown",
   "metadata": {},
   "source": [
    "## Inspect the data and remove the cities where the humidity > 100%.\n",
    "----\n",
    "Skip this step if there are no cities that have humidity > 100%. "
   ]
  },
  {
   "cell_type": "code",
   "execution_count": 6,
   "metadata": {},
   "outputs": [
    {
     "data": {
      "text/html": [
       "<div>\n",
       "<style scoped>\n",
       "    .dataframe tbody tr th:only-of-type {\n",
       "        vertical-align: middle;\n",
       "    }\n",
       "\n",
       "    .dataframe tbody tr th {\n",
       "        vertical-align: top;\n",
       "    }\n",
       "\n",
       "    .dataframe thead th {\n",
       "        text-align: right;\n",
       "    }\n",
       "</style>\n",
       "<table border=\"1\" class=\"dataframe\">\n",
       "  <thead>\n",
       "    <tr style=\"text-align: right;\">\n",
       "      <th></th>\n",
       "      <th>Lat</th>\n",
       "      <th>Lng</th>\n",
       "      <th>Max Temp</th>\n",
       "      <th>Humidity</th>\n",
       "      <th>Cloudiness</th>\n",
       "      <th>Wind Speed</th>\n",
       "      <th>Date</th>\n",
       "    </tr>\n",
       "  </thead>\n",
       "  <tbody>\n",
       "    <tr>\n",
       "      <th>count</th>\n",
       "      <td>550.000000</td>\n",
       "      <td>550.000000</td>\n",
       "      <td>550.000000</td>\n",
       "      <td>550.000000</td>\n",
       "      <td>550.000000</td>\n",
       "      <td>550.000000</td>\n",
       "      <td>5.500000e+02</td>\n",
       "    </tr>\n",
       "    <tr>\n",
       "      <th>mean</th>\n",
       "      <td>19.973545</td>\n",
       "      <td>17.124400</td>\n",
       "      <td>58.331400</td>\n",
       "      <td>67.890909</td>\n",
       "      <td>52.141818</td>\n",
       "      <td>8.544800</td>\n",
       "      <td>1.585764e+09</td>\n",
       "    </tr>\n",
       "    <tr>\n",
       "      <th>std</th>\n",
       "      <td>33.284840</td>\n",
       "      <td>91.595451</td>\n",
       "      <td>25.795297</td>\n",
       "      <td>20.864881</td>\n",
       "      <td>35.766469</td>\n",
       "      <td>6.078869</td>\n",
       "      <td>5.539674e+01</td>\n",
       "    </tr>\n",
       "    <tr>\n",
       "      <th>min</th>\n",
       "      <td>-54.800000</td>\n",
       "      <td>-179.170000</td>\n",
       "      <td>-11.340000</td>\n",
       "      <td>9.000000</td>\n",
       "      <td>0.000000</td>\n",
       "      <td>0.160000</td>\n",
       "      <td>1.585764e+09</td>\n",
       "    </tr>\n",
       "    <tr>\n",
       "      <th>25%</th>\n",
       "      <td>-8.077500</td>\n",
       "      <td>-64.627500</td>\n",
       "      <td>42.800000</td>\n",
       "      <td>55.000000</td>\n",
       "      <td>20.000000</td>\n",
       "      <td>4.525000</td>\n",
       "      <td>1.585764e+09</td>\n",
       "    </tr>\n",
       "    <tr>\n",
       "      <th>50%</th>\n",
       "      <td>23.630000</td>\n",
       "      <td>19.635000</td>\n",
       "      <td>64.940000</td>\n",
       "      <td>72.000000</td>\n",
       "      <td>57.000000</td>\n",
       "      <td>7.325000</td>\n",
       "      <td>1.585764e+09</td>\n",
       "    </tr>\n",
       "    <tr>\n",
       "      <th>75%</th>\n",
       "      <td>48.672500</td>\n",
       "      <td>97.350000</td>\n",
       "      <td>78.800000</td>\n",
       "      <td>83.000000</td>\n",
       "      <td>86.750000</td>\n",
       "      <td>11.410000</td>\n",
       "      <td>1.585764e+09</td>\n",
       "    </tr>\n",
       "    <tr>\n",
       "      <th>max</th>\n",
       "      <td>78.220000</td>\n",
       "      <td>179.320000</td>\n",
       "      <td>102.200000</td>\n",
       "      <td>100.000000</td>\n",
       "      <td>100.000000</td>\n",
       "      <td>46.080000</td>\n",
       "      <td>1.585764e+09</td>\n",
       "    </tr>\n",
       "  </tbody>\n",
       "</table>\n",
       "</div>"
      ],
      "text/plain": [
       "              Lat         Lng    Max Temp    Humidity  Cloudiness  Wind Speed  \\\n",
       "count  550.000000  550.000000  550.000000  550.000000  550.000000  550.000000   \n",
       "mean    19.973545   17.124400   58.331400   67.890909   52.141818    8.544800   \n",
       "std     33.284840   91.595451   25.795297   20.864881   35.766469    6.078869   \n",
       "min    -54.800000 -179.170000  -11.340000    9.000000    0.000000    0.160000   \n",
       "25%     -8.077500  -64.627500   42.800000   55.000000   20.000000    4.525000   \n",
       "50%     23.630000   19.635000   64.940000   72.000000   57.000000    7.325000   \n",
       "75%     48.672500   97.350000   78.800000   83.000000   86.750000   11.410000   \n",
       "max     78.220000  179.320000  102.200000  100.000000  100.000000   46.080000   \n",
       "\n",
       "               Date  \n",
       "count  5.500000e+02  \n",
       "mean   1.585764e+09  \n",
       "std    5.539674e+01  \n",
       "min    1.585764e+09  \n",
       "25%    1.585764e+09  \n",
       "50%    1.585764e+09  \n",
       "75%    1.585764e+09  \n",
       "max    1.585764e+09  "
      ]
     },
     "execution_count": 6,
     "metadata": {},
     "output_type": "execute_result"
    }
   ],
   "source": [
    "No city with Humidity > 100% "
   ]
  },
  {
   "cell_type": "code",
   "execution_count": 5,
   "metadata": {},
   "outputs": [
    {
     "data": {
      "text/plain": [
       "0"
      ]
     },
     "execution_count": 5,
     "metadata": {},
     "output_type": "execute_result"
    }
   ],
   "source": [
    "humidity_df=city_df.loc[city_df[\"Humidity\"]>100]\n",
    "len(humidity_df)"
   ]
  },
  {
   "cell_type": "code",
   "execution_count": 17,
   "metadata": {},
   "outputs": [
    {
     "data": {
      "text/plain": [
       "Int64Index([], dtype='int64')"
      ]
     },
     "execution_count": 17,
     "metadata": {},
     "output_type": "execute_result"
    }
   ],
   "source": [
    "#  Get the indices of cities that have humidity over 100%.\n",
    "No city with Humidity > 100% "
   ]
  },
  {
   "cell_type": "code",
   "execution_count": 19,
   "metadata": {},
   "outputs": [
    {
     "data": {
      "text/html": [
       "<div>\n",
       "<style scoped>\n",
       "    .dataframe tbody tr th:only-of-type {\n",
       "        vertical-align: middle;\n",
       "    }\n",
       "\n",
       "    .dataframe tbody tr th {\n",
       "        vertical-align: top;\n",
       "    }\n",
       "\n",
       "    .dataframe thead th {\n",
       "        text-align: right;\n",
       "    }\n",
       "</style>\n",
       "<table border=\"1\" class=\"dataframe\">\n",
       "  <thead>\n",
       "    <tr style=\"text-align: right;\">\n",
       "      <th></th>\n",
       "      <th>City</th>\n",
       "      <th>Lat</th>\n",
       "      <th>Lng</th>\n",
       "      <th>Max Temp</th>\n",
       "      <th>Humidity</th>\n",
       "      <th>Cloudiness</th>\n",
       "      <th>Wind Speed</th>\n",
       "      <th>Country</th>\n",
       "      <th>Date</th>\n",
       "    </tr>\n",
       "  </thead>\n",
       "  <tbody>\n",
       "    <tr>\n",
       "      <td>0</td>\n",
       "      <td>butaritari</td>\n",
       "      <td>3.07</td>\n",
       "      <td>172.79</td>\n",
       "      <td>83.32</td>\n",
       "      <td>74</td>\n",
       "      <td>84</td>\n",
       "      <td>10.42</td>\n",
       "      <td>KI</td>\n",
       "      <td>1593605283</td>\n",
       "    </tr>\n",
       "    <tr>\n",
       "      <td>1</td>\n",
       "      <td>yerbogachen</td>\n",
       "      <td>61.28</td>\n",
       "      <td>108.01</td>\n",
       "      <td>79.52</td>\n",
       "      <td>58</td>\n",
       "      <td>20</td>\n",
       "      <td>7.70</td>\n",
       "      <td>RU</td>\n",
       "      <td>1593605121</td>\n",
       "    </tr>\n",
       "    <tr>\n",
       "      <td>2</td>\n",
       "      <td>cape town</td>\n",
       "      <td>-33.93</td>\n",
       "      <td>18.42</td>\n",
       "      <td>73.00</td>\n",
       "      <td>77</td>\n",
       "      <td>27</td>\n",
       "      <td>4.70</td>\n",
       "      <td>ZA</td>\n",
       "      <td>1593605039</td>\n",
       "    </tr>\n",
       "    <tr>\n",
       "      <td>3</td>\n",
       "      <td>touba</td>\n",
       "      <td>8.28</td>\n",
       "      <td>-7.68</td>\n",
       "      <td>79.97</td>\n",
       "      <td>75</td>\n",
       "      <td>82</td>\n",
       "      <td>3.58</td>\n",
       "      <td>CI</td>\n",
       "      <td>1593605284</td>\n",
       "    </tr>\n",
       "    <tr>\n",
       "      <td>4</td>\n",
       "      <td>jamestown</td>\n",
       "      <td>42.10</td>\n",
       "      <td>-79.24</td>\n",
       "      <td>64.00</td>\n",
       "      <td>88</td>\n",
       "      <td>1</td>\n",
       "      <td>6.93</td>\n",
       "      <td>US</td>\n",
       "      <td>1593605284</td>\n",
       "    </tr>\n",
       "  </tbody>\n",
       "</table>\n",
       "</div>"
      ],
      "text/plain": [
       "          City    Lat     Lng  Max Temp  Humidity  Cloudiness  Wind Speed  \\\n",
       "0   butaritari   3.07  172.79     83.32        74          84       10.42   \n",
       "1  yerbogachen  61.28  108.01     79.52        58          20        7.70   \n",
       "2    cape town -33.93   18.42     73.00        77          27        4.70   \n",
       "3        touba   8.28   -7.68     79.97        75          82        3.58   \n",
       "4    jamestown  42.10  -79.24     64.00        88           1        6.93   \n",
       "\n",
       "  Country        Date  \n",
       "0      KI  1593605283  \n",
       "1      RU  1593605121  \n",
       "2      ZA  1593605039  \n",
       "3      CI  1593605284  \n",
       "4      US  1593605284  "
      ]
     },
     "execution_count": 19,
     "metadata": {},
     "output_type": "execute_result"
    }
   ],
   "source": [
    "# Make a new DataFrame equal to the city data to drop all humidity outliers by index.\n",
    "# Passing \"inplace=False\" will make a copy of the city_data DataFrame, which we call \"clean_city_data\".\n",
    "No city with Humidity > 100% "
   ]
  },
  {
   "cell_type": "code",
   "execution_count": null,
   "metadata": {},
   "outputs": [],
   "source": [
    "\n"
   ]
  },
  {
   "cell_type": "markdown",
   "metadata": {},
   "source": [
    "## Plotting the Data\n",
    "* Use proper labeling of the plots using plot titles (including date of analysis) and axes labels.\n",
    "* Save the plotted figures as .pngs."
   ]
  },
  {
   "cell_type": "markdown",
   "metadata": {},
   "source": [
    "## Latitude vs. Temperature Plot"
   ]
  },
  {
   "cell_type": "code",
   "execution_count": 10,
   "metadata": {
    "scrolled": true
   },
   "outputs": [
    {
     "data": {
      "image/png": "[encoded data removed]",
      "text/plain": [
       "<Figure size 432x288 with 1 Axes>"
      ]
     },
     "metadata": {
      "needs_background": "light"
     },
     "output_type": "display_data"
    }
   ],
   "source": [
    "x_values = city_df['Latitude']\n",
    "y_values = city_df['Temperature']\n",
    "plt.scatter(x_values,y_values)\n",
    "plt.xlabel('Latitude')\n",
    "plt.ylabel('Temperature')\n",
    "plt.title('City Latitude vs Temperature')\n",
    "plt.show()"
   ]
  },
  {
   "cell_type": "markdown",
   "metadata": {},
   "source": [
    "## Latitude vs. Humidity Plot"
   ]
  },
  {
   "cell_type": "code",
   "execution_count": 11,
   "metadata": {},
   "outputs": [
    {
     "data": {
      "image/png": "[encoded data removed]",
      "text/plain": [
       "<Figure size 432x288 with 1 Axes>"
      ]
     },
     "metadata": {
      "needs_background": "light"
     },
     "output_type": "display_data"
    }
   ],
   "source": [
    "x_values = city_df['Latitude']\n",
    "y_values = city_df['Humidity']\n",
    "plt.scatter(x_values,y_values)\n",
    "plt.xlabel('Latitude')\n",
    "plt.ylabel('Humidity')\n",
    "plt.title('City Latitude vs Humidity')\n",
    "plt.show()"
   ]
  },
  {
   "cell_type": "markdown",
   "metadata": {},
   "source": [
    "## Latitude vs. Cloudiness Plot"
   ]
  },
  {
   "cell_type": "code",
   "execution_count": 12,
   "metadata": {},
   "outputs": [
    {
     "data": {
      "image/png": "[encoded data removed]",
      "text/plain": [
       "<Figure size 432x288 with 1 Axes>"
      ]
     },
     "metadata": {
      "needs_background": "light"
     },
     "output_type": "display_data"
    }
   ],
   "source": [
    "x_values = city_df['Latitude']\n",
    "y_values = city_df['Cloud']\n",
    "plt.scatter(x_values,y_values)\n",
    "plt.xlabel('Latitude')\n",
    "plt.ylabel('Cloud')\n",
    "plt.title('City Latitude vs Cloudiness')\n",
    "plt.show()"
   ]
  },
  {
   "cell_type": "markdown",
   "metadata": {},
   "source": [
    "## Latitude vs. Wind Speed Plot"
   ]
  },
  {
   "cell_type": "code",
   "execution_count": 13,
   "metadata": {},
   "outputs": [
    {
     "data": {
      "image/png": "[encoded data removed]",
      "text/plain": [
       "<Figure size 432x288 with 1 Axes>"
      ]
     },
     "metadata": {
      "needs_background": "light"
     },
     "output_type": "display_data"
    }
   ],
   "source": [
    "x_values = city_df['Latitude']\n",
    "y_values = city_df['Wind Speed']\n",
    "plt.scatter(x_values,y_values)\n",
    "plt.xlabel('Latitude')\n",
    "plt.ylabel('Wind Speed')\n",
    "plt.title('City Latitude vs Wind Speed')\n",
    "plt.show()"
   ]
  },
  {
   "cell_type": "markdown",
   "metadata": {},
   "source": [
    "## Linear Regression"
   ]
  },
  {
   "cell_type": "markdown",
   "metadata": {},
   "source": [
    "####  Northern Hemisphere - Max Temp vs. Latitude Linear Regression"
   ]
  },
  {
   "cell_type": "code",
   "execution_count": 18,
   "metadata": {},
   "outputs": [
    {
     "name": "stdout",
     "output_type": "stream",
     "text": [
      "0       9.245718\n",
      "1      75.240024\n",
      "3      73.536022\n",
      "6      23.101943\n",
      "8      39.934180\n",
      "         ...    \n",
      "546    80.002804\n",
      "547    74.516744\n",
      "550    54.231785\n",
      "552    44.383436\n",
      "553    48.042456\n",
      "Name: Latitude, Length: 377, dtype: float64\n",
      "y = -1.24x +91.94\n"
     ]
    }
   ],
   "source": [
    "Northern_df=city_df.loc[city_df[\"Latitude\"]>=0]\n",
    "Northern_df\n",
    "x_values = Northern_df['Latitude']\n",
    "y_values = Northern_df['Temperature']\n",
    "(slope, intercept, rvalue, pvalue, stderr) = linregress(x_values, y_values)\n",
    "regress_values = x_values * slope + intercept\n",
    "line_eq = \"y = \" + str(round(slope,2)) + \"x +\" + str(round(intercept,2))\n",
    "print(regress_values)\n",
    "print(line_eq)"
   ]
  },
  {
   "cell_type": "code",
   "execution_count": 19,
   "metadata": {},
   "outputs": [
    {
     "name": "stdout",
     "output_type": "stream",
     "text": [
      "The r-value is: 0.764673610334512\n"
     ]
    },
    {
     "data": {
      "image/png": "[encoded data removed]",
      "text/plain": [
       "<Figure size 432x288 with 1 Axes>"
      ]
     },
     "metadata": {
      "needs_background": "light"
     },
     "output_type": "display_data"
    }
   ],
   "source": [
    "plt.scatter(x_values,y_values)\n",
    "plt.plot(x_values,regress_values,\"r-\")\n",
    "\n",
    "plt.xlabel('Latitude')\n",
    "plt.ylabel('Max Temperature')\n",
    "\n",
    "print(f\"The r-value is: {rvalue**2}\")\n",
    "plt.annotate(\"y = -1.24x +91.94\",(-5,5),fontsize=15,color=\"red\")\n",
    "\n",
    "plt.show()"
   ]
  },
  {
   "cell_type": "markdown",
   "metadata": {},
   "source": [
    "####  Southern Hemisphere - Max Temp vs. Latitude Linear Regression"
   ]
  },
  {
   "cell_type": "code",
   "execution_count": 20,
   "metadata": {},
   "outputs": [
    {
     "name": "stdout",
     "output_type": "stream",
     "text": [
      "2      60.191597\n",
      "4      76.643472\n",
      "5      73.787218\n",
      "7      80.428451\n",
      "10     56.082722\n",
      "         ...    \n",
      "544    72.042809\n",
      "545    72.596034\n",
      "548    67.241698\n",
      "549    68.735965\n",
      "551    78.979009\n",
      "Name: Latitude, Length: 177, dtype: float64\n",
      "y = 0.48x +82.24\n"
     ]
    }
   ],
   "source": [
    "Southern_df=city_df.loc[city_df[\"Latitude\"]<0]\n",
    "Southern_df\n",
    "x_values = Southern_df['Latitude']\n",
    "y_values = Southern_df['Temperature']\n",
    "(slope, intercept, rvalue, pvalue, stderr) =linregress(x_values, y_values)\n",
    "regress_values = x_values * slope + intercept\n",
    "line_eq = \"y = \" + str(round(slope,2)) + \"x +\" + str(round(intercept,2))\n",
    "print(regress_values)\n",
    "print(line_eq)"
   ]
  },
  {
   "cell_type": "code",
   "execution_count": 21,
   "metadata": {},
   "outputs": [
    {
     "name": "stdout",
     "output_type": "stream",
     "text": [
      "The r-value is: 0.3528103132598298\n"
     ]
    },
    {
     "data": {
      "image/png": "[encoded data removed]",
      "text/plain": [
       "<Figure size 432x288 with 1 Axes>"
      ]
     },
     "metadata": {
      "needs_background": "light"
     },
     "output_type": "display_data"
    }
   ],
   "source": [
    "plt.scatter(x_values,y_values)\n",
    "plt.plot(x_values,regress_values,\"r-\")\n",
    "\n",
    "plt.xlabel('Latitude')\n",
    "plt.ylabel('Max Temperature')\n",
    "plt.annotate(line_eq,(20,15),fontsize=15,color=\"red\")\n",
    "\n",
    "print(f\"The r-value is: {rvalue**2}\")\n",
    "plt.annotate(\"y = 0.48x +82.24\",(-50,70),fontsize=15,color=\"red\")\n",
    "\n",
    "plt.show()"
   ]
  },
  {
   "cell_type": "markdown",
   "metadata": {},
   "source": [
    "####  Northern Hemisphere - Humidity (%) vs. Latitude Linear Regression"
   ]
  },
  {
   "cell_type": "code",
   "execution_count": 23,
   "metadata": {},
   "outputs": [
    {
     "name": "stdout",
     "output_type": "stream",
     "text": [
      "0      79.809861\n",
      "1      65.675725\n",
      "3      66.040674\n",
      "6      76.842245\n",
      "8      73.237250\n",
      "         ...    \n",
      "546    64.655670\n",
      "547    65.830631\n",
      "550    70.175103\n",
      "552    72.284344\n",
      "553    71.500684\n",
      "Name: Latitude, Length: 377, dtype: float64\n",
      "y = 0.26x +62.1\n"
     ]
    }
   ],
   "source": [
    "x_values = Northern_df['Latitude']\n",
    "y_values = Northern_df['Humidity']\n",
    "(slope, intercept, rvalue, pvalue, stderr) =linregress(x_values, y_values)\n",
    "regress_values = x_values * slope + intercept\n",
    "line_eq = \"y = \" + str(round(slope,2)) + \"x +\" + str(round(intercept,2))\n",
    "print(regress_values)\n",
    "print(line_eq)"
   ]
  },
  {
   "cell_type": "code",
   "execution_count": 24,
   "metadata": {},
   "outputs": [
    {
     "name": "stdout",
     "output_type": "stream",
     "text": [
      "The r-value is: 0.06829809150793437\n"
     ]
    },
    {
     "data": {
      "image/png": "[encoded data removed]",
      "text/plain": [
       "<Figure size 432x288 with 1 Axes>"
      ]
     },
     "metadata": {
      "needs_background": "light"
     },
     "output_type": "display_data"
    }
   ],
   "source": [
    "plt.scatter(x_values,y_values)\n",
    "plt.plot(x_values,regress_values,\"r-\")\n",
    "\n",
    "plt.xlabel('Latitude')\n",
    "plt.ylabel('Humidity')\n",
    "\n",
    "print(f\"The r-value is: {rvalue**2}\")\n",
    "plt.annotate(\"y = 0.26x +62.1\",(10,50),fontsize=15,color=\"red\")\n",
    "\n",
    "plt.show()"
   ]
  },
  {
   "cell_type": "markdown",
   "metadata": {},
   "source": [
    "####  Southern Hemisphere - Humidity (%) vs. Latitude Linear Regression"
   ]
  },
  {
   "cell_type": "code",
   "execution_count": 25,
   "metadata": {},
   "outputs": [
    {
     "name": "stdout",
     "output_type": "stream",
     "text": [
      "2      63.709123\n",
      "4      74.579522\n",
      "5      72.692283\n",
      "7      77.080406\n",
      "10     60.994228\n",
      "         ...    \n",
      "544    71.539684\n",
      "545    71.905221\n",
      "548    68.367401\n",
      "549    69.354722\n",
      "551    76.122703\n",
      "Name: Latitude, Length: 177, dtype: float64\n",
      "y = 0.32x +78.28\n"
     ]
    }
   ],
   "source": [
    "x_values = Southern_df['Latitude']\n",
    "y_values = Southern_df['Humidity']\n",
    "(slope, intercept, rvalue, pvalue, stderr) =linregress(x_values, y_values)\n",
    "regress_values = x_values * slope + intercept\n",
    "line_eq = \"y = \" + str(round(slope,2)) + \"x +\" + str(round(intercept,2))\n",
    "print(regress_values)\n",
    "print(line_eq)"
   ]
  },
  {
   "cell_type": "code",
   "execution_count": 26,
   "metadata": {},
   "outputs": [
    {
     "name": "stdout",
     "output_type": "stream",
     "text": [
      "The r-value is: 0.06868391061035918\n"
     ]
    },
    {
     "data": {
      "image/png": "[encoded data removed]",
      "text/plain": [
       "<Figure size 432x288 with 1 Axes>"
      ]
     },
     "metadata": {
      "needs_background": "light"
     },
     "output_type": "display_data"
    }
   ],
   "source": [
    "plt.scatter(x_values,y_values)\n",
    "plt.plot(x_values,regress_values,\"r-\")\n",
    "\n",
    "plt.xlabel('Latitude')\n",
    "plt.ylabel('Humidity')\n",
    "plt.annotate(line_eq,(20,15),fontsize=15,color=\"red\")\n",
    "\n",
    "print(f\"The r-value is: {rvalue**2}\")\n",
    "plt.annotate(\"y = 0.32x +78.28\",(-50,40),fontsize=15,color=\"red\")\n",
    "\n",
    "plt.show()"
   ]
  },
  {
   "cell_type": "markdown",
   "metadata": {},
   "source": [
    "####  Northern Hemisphere - Cloudiness (%) vs. Latitude Linear Regression"
   ]
  },
  {
   "cell_type": "code",
   "execution_count": 27,
   "metadata": {},
   "outputs": [
    {
     "name": "stdout",
     "output_type": "stream",
     "text": [
      "0      66.394532\n",
      "1      45.896416\n",
      "3      46.425686\n",
      "6      62.090729\n",
      "8      56.862563\n",
      "         ...    \n",
      "546    44.417076\n",
      "547    46.121070\n",
      "550    52.421666\n",
      "552    55.480605\n",
      "553    54.344098\n",
      "Name: Latitude, Length: 377, dtype: float64\n",
      "y = 0.38x +40.71\n"
     ]
    }
   ],
   "source": [
    "x_values = Northern_df['Latitude']\n",
    "y_values = Northern_df['Cloud']\n",
    "(slope, intercept, rvalue, pvalue, stderr) =linregress(x_values, y_values)\n",
    "regress_values = x_values * slope + intercept\n",
    "line_eq = \"y = \" + str(round(slope,2)) + \"x +\" + str(round(intercept,2))\n",
    "print(regress_values)\n",
    "print(line_eq)"
   ]
  },
  {
   "cell_type": "code",
   "execution_count": 28,
   "metadata": {},
   "outputs": [
    {
     "name": "stdout",
     "output_type": "stream",
     "text": [
      "The r-value is: 0.033287319621799864\n"
     ]
    },
    {
     "data": {
      "image/png": "[encoded data removed]",
      "text/plain": [
       "<Figure size 432x288 with 1 Axes>"
      ]
     },
     "metadata": {
      "needs_background": "light"
     },
     "output_type": "display_data"
    }
   ],
   "source": [
    "plt.scatter(x_values,y_values)\n",
    "plt.plot(x_values,regress_values,\"r-\")\n",
    "\n",
    "plt.xlabel('Latitude')\n",
    "plt.ylabel('Cloudiness')\n",
    "\n",
    "print(f\"The r-value is: {rvalue**2}\")\n",
    "plt.annotate(\"y = 0.38x +40.71\",(1,1),fontsize=15,color=\"red\")\n",
    "\n",
    "plt.show()"
   ]
  },
  {
   "cell_type": "markdown",
   "metadata": {},
   "source": [
    "####  Southern Hemisphere - Cloudiness (%) vs. Latitude Linear Regression"
   ]
  },
  {
   "cell_type": "code",
   "execution_count": 29,
   "metadata": {},
   "outputs": [
    {
     "name": "stdout",
     "output_type": "stream",
     "text": [
      "2      43.475303\n",
      "4      65.265633\n",
      "5      61.482556\n",
      "7      70.278797\n",
      "10     38.033142\n",
      "         ...    \n",
      "544    59.172105\n",
      "545    59.904846\n",
      "548    52.813086\n",
      "549    54.792226\n",
      "551    68.359028\n",
      "Name: Latitude, Length: 177, dtype: float64\n",
      "y = 0.63x +72.68\n"
     ]
    }
   ],
   "source": [
    "x_values = Southern_df['Latitude']\n",
    "y_values = Southern_df['Cloud']\n",
    "(slope, intercept, rvalue, pvalue, stderr) =linregress(x_values, y_values)\n",
    "regress_values = x_values * slope + intercept\n",
    "line_eq = \"y = \" + str(round(slope,2)) + \"x +\" + str(round(intercept,2))\n",
    "print(regress_values)\n",
    "print(line_eq)"
   ]
  },
  {
   "cell_type": "code",
   "execution_count": 30,
   "metadata": {},
   "outputs": [
    {
     "name": "stdout",
     "output_type": "stream",
     "text": [
      "The r-value is: 0.055569971950119014\n"
     ]
    },
    {
     "data": {
      "image/png": "[encoded data removed]",
      "text/plain": [
       "<Figure size 432x288 with 1 Axes>"
      ]
     },
     "metadata": {
      "needs_background": "light"
     },
     "output_type": "display_data"
    }
   ],
   "source": [
    "plt.scatter(x_values,y_values)\n",
    "plt.plot(x_values,regress_values,\"r-\")\n",
    "\n",
    "plt.xlabel('Latitude')\n",
    "plt.ylabel('Cloudiness')\n",
    "\n",
    "print(f\"The r-value is: {rvalue**2}\")\n",
    "plt.annotate(\"y = 0.63x +72.68\",(-40,20),fontsize=15,color=\"red\")\n",
    "\n",
    "plt.show()"
   ]
  },
  {
   "cell_type": "markdown",
   "metadata": {},
   "source": [
    "####  Northern Hemisphere - Wind Speed (mph) vs. Latitude Linear Regression"
   ]
  },
  {
   "cell_type": "code",
   "execution_count": 31,
   "metadata": {},
   "outputs": [
    {
     "name": "stdout",
     "output_type": "stream",
     "text": [
      "0      9.691810\n",
      "1      5.810340\n",
      "3      5.910561\n",
      "6      8.876853\n",
      "8      7.886861\n",
      "         ...   \n",
      "546    5.530215\n",
      "547    5.852879\n",
      "550    7.045944\n",
      "552    7.625177\n",
      "553    7.409971\n",
      "Name: Latitude, Length: 377, dtype: float64\n",
      "y = 0.07x +4.83\n"
     ]
    }
   ],
   "source": [
    "x_values = Northern_df['Latitude']\n",
    "y_values = Northern_df['Wind Speed']\n",
    "(slope, intercept, rvalue, pvalue, stderr) =linregress(x_values, y_values)\n",
    "regress_values = x_values * slope + intercept\n",
    "line_eq = \"y = \" + str(round(slope,2)) + \"x +\" + str(round(intercept,2))\n",
    "print(regress_values)\n",
    "print(line_eq)"
   ]
  },
  {
   "cell_type": "code",
   "execution_count": 32,
   "metadata": {},
   "outputs": [
    {
     "name": "stdout",
     "output_type": "stream",
     "text": [
      "The r-value is: 0.0545284924184994\n"
     ]
    },
    {
     "data": {
      "image/png": "[encoded data removed]",
      "text/plain": [
       "<Figure size 432x288 with 1 Axes>"
      ]
     },
     "metadata": {
      "needs_background": "light"
     },
     "output_type": "display_data"
    }
   ],
   "source": [
    "plt.scatter(x_values,y_values)\n",
    "plt.plot(x_values,regress_values,\"r-\")\n",
    "\n",
    "plt.xlabel('Latitude')\n",
    "plt.ylabel('Wind Speed mph')\n",
    "\n",
    "print(f\"The r-value is: {rvalue**2}\")\n",
    "plt.annotate(\"y = 0.07x +4.83\",(10,20),fontsize=15,color=\"red\")\n",
    "\n",
    "plt.show()"
   ]
  },
  {
   "cell_type": "markdown",
   "metadata": {},
   "source": [
    "####  Southern Hemisphere - Wind Speed (mph) vs. Latitude Linear Regression"
   ]
  },
  {
   "cell_type": "code",
   "execution_count": 33,
   "metadata": {},
   "outputs": [
    {
     "name": "stdout",
     "output_type": "stream",
     "text": [
      "2      10.368823\n",
      "4       6.430236\n",
      "5       7.114024\n",
      "7       5.524110\n",
      "10     11.352489\n",
      "         ...    \n",
      "544     7.531637\n",
      "545     7.399194\n",
      "548     8.681025\n",
      "549     8.323297\n",
      "551     5.871107\n",
      "Name: Latitude, Length: 177, dtype: float64\n",
      "y = -0.11x +5.09\n"
     ]
    }
   ],
   "source": [
    "x_values = Southern_df['Latitude']\n",
    "y_values = Southern_df['Wind Speed']\n",
    "(slope, intercept, rvalue, pvalue, stderr) =linregress(x_values, y_values)\n",
    "regress_values = x_values * slope + intercept\n",
    "line_eq = \"y = \" + str(round(slope,2)) + \"x +\" + str(round(intercept,2))\n",
    "print(regress_values)\n",
    "print(line_eq)"
   ]
  },
  {
   "cell_type": "code",
   "execution_count": 37,
   "metadata": {},
   "outputs": [
    {
     "name": "stdout",
     "output_type": "stream",
     "text": [
      "The r-value is: 0.09653297402071774\n"
     ]
    },
    {
     "data": {
      "image/png": "[encoded data removed]",
      "text/plain": [
       "<Figure size 432x288 with 1 Axes>"
      ]
     },
     "metadata": {
      "needs_background": "light"
     },
     "output_type": "display_data"
    }
   ],
   "source": [
    "plt.scatter(x_values,y_values)\n",
    "plt.plot(x_values,regress_values,\"r-\")\n",
    "\n",
    "plt.xlabel('Latitude')\n",
    "plt.ylabel('Wind Speed mph')\n",
    "\n",
    "print(f\"The r-value is: {rvalue**2}\")\n",
    "plt.annotate(\"y =-0.11x +5.09\",(-50,15),fontsize=15,color=\"red\")\n",
    "\n",
    "plt.show()"
   ]
  },
  {
   "cell_type": "code",
   "execution_count": null,
   "metadata": {},
   "outputs": [],
   "source": []
  }
 ],
 "metadata": {
  "anaconda-cloud": {},
  "kernel_info": {
   "name": "python3"
  },
  "kernelspec": {
   "display_name": "Python 3",
   "language": "python",
   "name": "python3"
  },
  "language_info": {
   "codemirror_mode": {
    "name": "ipython",
    "version": 3
   },
   "file_extension": ".py",
   "mimetype": "text/x-python",
   "name": "python",
   "nbconvert_exporter": "python",
   "pygments_lexer": "ipython3",
   "version": "3.8.8"
  },
  "latex_envs": {
   "LaTeX_envs_menu_present": true,
   "autoclose": false,
   "autocomplete": true,
   "bibliofile": "biblio.bib",
   "cite_by": "apalike",
   "current_citInitial": 1,
   "eqLabelWithNumbers": true,
   "eqNumInitial": 1,
   "hotkeys": {
    "equation": "Ctrl-E",
    "itemize": "Ctrl-I"
   },
   "labels_anchors": false,
   "latex_user_defs": false,
   "report_style_numbering": false,
   "user_envs_cfg": false
  },
  "nteract": {
   "version": "0.12.3"
  }
 },
 "nbformat": 4,
 "nbformat_minor": 2
}
